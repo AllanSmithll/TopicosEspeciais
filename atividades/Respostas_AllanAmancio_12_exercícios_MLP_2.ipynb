{
  "nbformat": 4,
  "nbformat_minor": 0,
  "metadata": {
    "colab": {
      "provenance": []
    },
    "kernelspec": {
      "name": "python3",
      "display_name": "Python 3"
    },
    "language_info": {
      "name": "python"
    }
  },
  "cells": [
    {
      "cell_type": "code",
      "execution_count": null,
      "metadata": {
        "id": "UiwNFZi0EwsL",
        "outputId": "1a3c2d0b-b0cd-4f46-bbb2-b0968f14729b",
        "colab": {
          "base_uri": "https://localhost:8080/"
        }
      },
      "outputs": [
        {
          "output_type": "stream",
          "name": "stdout",
          "text": [
            "dict_keys(['data', 'target', 'frame', 'feature_names', 'target_names', 'images', 'DESCR'])\n",
            "(1797, 64)\n",
            "Acurácia MLP1: 0.97\n",
            "Acurácia MLP2: 0.98\n",
            "Acurácia Árvore1: 0.89\n",
            "Acurácia Árvore2: 0.88\n",
            "Acurácia Árvore3: 0.34\n",
            "Acurácia KNN1: 0.98\n"
          ]
        }
      ],
      "source": [
        "## Exercício 1 - Dataset Digits do sklearn\n",
        "\n",
        "# Acesso: https://scikit-learn.org/stable/modules/generated/sklearn.datasets.load_digits.html#sklearn.datasets.load_digits\n",
        "\n",
        "# 1) Importar o pacote \"sklearn.datasets\" e o \"load_digits\"\n",
        "from sklearn.datasets import load_digits\n",
        "# 2) Carregar o dataset através do método: load_digits()\n",
        "digits = load_digits()\n",
        "# 3) Observe as keys do dataset usando o método \"keys\"\n",
        "print(digits.keys())\n",
        "# 4) A chave \"data\" são as features e a chave \"target\" é o y. Separe os dados em 2 variáveis diferentes\n",
        "data = digits.data\n",
        "target = digits.target\n",
        "# 5) Verificar a dimensionalidade das features através da variável shape\n",
        "shape = data.shape\n",
        "print(shape)\n",
        "# 6) Separe o conjunto de dados em treinamento e teste usando o método: \"train_test_split\"\n",
        "from sklearn.model_selection import train_test_split\n",
        "train_x, test_x, train_y, test_y = train_test_split(data, target, test_size=0.2)\n",
        "# 7) Treinar MLP (2 topologias diferentes)\n",
        "from sklearn.neural_network import MLPClassifier\n",
        "mlp1 = MLPClassifier(hidden_layer_sizes=(100, 50), max_iter=1000)\n",
        "mlp1.fit(train_x, train_y)\n",
        "mlp2 = MLPClassifier(hidden_layer_sizes=(100, 100), max_iter=1000)\n",
        "mlp2.fit(train_x, train_y)\n",
        "# 8) Treinar Árvore de Decisão (com Entropia e Gini)\n",
        "from sklearn.tree import DecisionTreeClassifier\n",
        "tree1 = DecisionTreeClassifier(criterion='entropy')\n",
        "tree1.fit(train_x, train_y)\n",
        "tree2 = DecisionTreeClassifier(criterion='gini')\n",
        "tree2.fit(train_x, train_y)\n",
        "# 9) Treinar Árvore de Decisão com max_depth = 2\n",
        "tree3 = DecisionTreeClassifier(criterion='entropy', max_depth=2)\n",
        "tree3.fit(train_x, train_y)\n",
        "# 10) Treinar KNN (com duas características diferentes)\n",
        "from sklearn.neighbors import KNeighborsClassifier\n",
        "knn1 = KNeighborsClassifier(n_neighbors=3)\n",
        "knn1.fit(train_x, train_y)\n",
        "# 11) Mostrar a taxa de acerto de todos os modelos\n",
        "from sklearn.metrics import accuracy_score\n",
        "print(\"Acurácia MLP1: %.2f\" % accuracy_score(test_y, mlp1.predict(test_x)))\n",
        "print(\"Acurácia MLP2: %.2f\" % accuracy_score(test_y, mlp2.predict(test_x)))\n",
        "print(\"Acurácia Árvore1: %.2f\" % accuracy_score(test_y, tree1.predict(test_x)))\n",
        "print(\"Acurácia Árvore2: %.2f\" % accuracy_score(test_y, tree2.predict(test_x)))\n",
        "print(\"Acurácia Árvore3: %.2f\" % accuracy_score(test_y, tree3.predict(test_x)))\n",
        "print(\"Acurácia KNN1: %.2f\" % accuracy_score(test_y, knn1.predict(test_x)))"
      ]
    },
    {
      "cell_type": "code",
      "source": [
        "## Exercício 2 - Dataset Diabetes do sklearn (Base de Dados de Regressão)\n",
        "\n",
        "# Acesso: https://scikit-learn.org/stable/modules/generated/sklearn.datasets.load_diabetes.html#sklearn.datasets.load_diabetes\n",
        "\n",
        "# 1) Importar o pacote \"sklearn.datasets\" e o \"load_diabetes\"\n",
        "from sklearn.datasets import load_diabetes\n",
        "# 2) Carregar o dataset através do método: load_diabetes()\n",
        "diabetes = load_diabetes()\n",
        "# 3) Observe as keys do dataset usando o método \"keys\"\n",
        "print(diabetes.keys())\n",
        "# 4) A chave \"data\" são as features e a chave \"target\" é o y. Separe os dados em 2 variáveis diferentes\n",
        "data = diabetes.data\n",
        "target = diabetes.target\n",
        "# 5) Verificar a dimensionalidade das features através da variável shape\n",
        "shape = data.shape\n",
        "print(shape)\n",
        "# 6) Separe o conjunto de dados em treinamento e teste usando o método: \"train_test_split\"\n",
        "from sklearn.model_selection import train_test_split\n",
        "train_x, test_x, train_y, test_y = train_test_split(data, target, test_size=0.2)\n",
        "# 7) Treinar MLP (2 topologias diferentes) - MLPRegressor()\n",
        "from sklearn.neural_network import MLPRegressor\n",
        "mlp1 = MLPRegressor(hidden_layer_sizes=(10, 5), max_iter=10)\n",
        "mlp1.fit(train_x, train_y)\n",
        "# 8) Treinar Árvore de Decisão - DecisionTreeRegressor()\n",
        "from sklearn.tree import DecisionTreeRegressor\n",
        "tree1 = DecisionTreeRegressor()\n",
        "tree1.fit(train_x, train_y)\n",
        "# 9) Treinar Árvore de Decisão com max_depth = 2 - DecisionTreeRegressor()\n",
        "tree2 = DecisionTreeRegressor(max_depth=2)\n",
        "tree2.fit(train_x, train_y)\n",
        "# 10) Treinar KNN (com duas características diferentes) - KNeighborsRegressor()\n",
        "from sklearn.neighbors import KNeighborsRegressor\n",
        "knn1 = KNeighborsRegressor(n_neighbors=3)\n",
        "knn1.fit(train_x, train_y)\n",
        "# 11) Treinar o modelo de Regressão Linear - LinearRegression()\n",
        "from sklearn.linear_model import LinearRegression\n",
        "lr = LinearRegression()\n",
        "lr.fit(train_x, train_y)\n",
        "# 12) Usar o MSE (Mean Squared Error) pra avaliar os modelos:\n",
        "from sklearn.metrics import mean_squared_error\n",
        "print(\"MSE MLP1: %.2f\" % mean_squared_error(test_y, mlp1.predict(test_x)))\n",
        "print(\"MSE Árvore1: %.2f\" % mean_squared_error(test_y, tree1.predict(test_x)))\n",
        "print(\"MSE Árvore2: %.2f\" % mean_squared_error(test_y, tree2.predict(test_x)))\n",
        "print(\"MSE KNN1: %.2f\" % mean_squared_error(test_y, knn1.predict(test_x)))\n",
        "print(\"MSE LR: %.2f\" % mean_squared_error(test_y, lr.predict(test_x)))\n",
        "# Exemplo: print(\"MSE: %.2f\" % mean_squared_error(teste_y, prediction))"
      ],
      "metadata": {
        "id": "_362ExMzHvvB",
        "outputId": "a99edd53-57c9-4fb0-a926-cd9f0b1d75bc",
        "colab": {
          "base_uri": "https://localhost:8080/"
        }
      },
      "execution_count": null,
      "outputs": [
        {
          "output_type": "stream",
          "name": "stdout",
          "text": [
            "dict_keys(['data', 'target', 'frame', 'DESCR', 'feature_names', 'data_filename', 'target_filename', 'data_module'])\n",
            "(442, 10)\n",
            "MSE MLP1: 28787.40\n",
            "MSE Árvore1: 4886.28\n",
            "MSE Árvore2: 3500.25\n",
            "MSE KNN1: 3101.21\n",
            "MSE LR: 2484.86\n"
          ]
        },
        {
          "output_type": "stream",
          "name": "stderr",
          "text": [
            "/usr/local/lib/python3.11/dist-packages/sklearn/neural_network/_multilayer_perceptron.py:691: ConvergenceWarning: Stochastic Optimizer: Maximum iterations (10) reached and the optimization hasn't converged yet.\n",
            "  warnings.warn(\n"
          ]
        }
      ]
    }
  ]
}