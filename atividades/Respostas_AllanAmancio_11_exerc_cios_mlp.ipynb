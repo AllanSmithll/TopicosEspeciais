{
  "nbformat": 4,
  "nbformat_minor": 0,
  "metadata": {
    "colab": {
      "provenance": []
    },
    "kernelspec": {
      "name": "python3",
      "display_name": "Python 3"
    },
    "language_info": {
      "name": "python"
    }
  },
  "cells": [
    {
      "cell_type": "code",
      "source": [
        "## Exercício 1 - Problema do XOR\n",
        "\n",
        "from sklearn.neural_network import MLPClassifier\n",
        "import numpy as np\n",
        "\n",
        "x = np.array([[0, 0], [0, 1], [1, 0], [1, 1]])\n",
        "y = np.array([0, 1, 1, 0])\n",
        "\n",
        "# 1- Importar o modelo MLP do sklearn\n",
        "# 2- Instanciar o modelo escolhendo uma topologia para a rede, função de ativação e número de épocas de execução até 100% de acerto\n",
        "mlp = MLPClassifier(hidden_layer_sizes=(3, 2), activation='tanh', max_iter=1000)\n",
        "# 3- Treinar o modelo com os dados de treinamento\n",
        "train = mlp.fit(x,y)\n",
        "# 4- Fazer o predict com os dados de treinamento\n",
        "predict = mlp.predict(x)\n",
        "# 5- Comparar o resultado do predict com o vetor y\n",
        "print(predict)\n",
        "print(y)"
      ],
      "metadata": {
        "id": "Q8khw7gpctj0",
        "outputId": "4fd5a76c-8be3-4905-af08-2b3881e19c0f",
        "colab": {
          "base_uri": "https://localhost:8080/"
        }
      },
      "execution_count": null,
      "outputs": [
        {
          "output_type": "stream",
          "name": "stdout",
          "text": [
            "[0 0 1 0]\n",
            "[0 1 1 0]\n"
          ]
        }
      ]
    },
    {
      "cell_type": "code",
      "source": [
        "## Exercício 2 - Dataset Parkinsons\n",
        "\n",
        "# 1- Carregar a base de dados Parkinsons\n",
        "url = \"https://raw.githubusercontent.com/tmoura/machinelearning/master/parkinsons.data\"\n",
        "\n",
        "import pandas as pd\n",
        "from sklearn.model_selection import train_test_split\n",
        "from sklearn.neural_network import MLPClassifier\n",
        "from sklearn import metrics\n",
        "from sklearn.preprocessing import MinMaxScaler\n",
        "\n",
        "parkinsons = pd.read_csv(url, header=None)\n",
        "\n",
        "columns = len(parkinsons.columns)\n",
        "\n",
        "# 2- Normalizar todas as colunas (normalizar é deixar todos os valores das colunas entre 0 e 1)\n",
        "min_max_scaler = MinMaxScaler()\n",
        "names = parkinsons.columns\n",
        "d = min_max_scaler.fit_transform(parkinsons)\n",
        "parkinsons = pd.DataFrame(d, columns=names)\n",
        "parkinsons.head(10)\n",
        "\n",
        "# 3- Separar o dataset em X (matriz de features) e y (coluna target)\n",
        "y = parkinsons[0]\n",
        "X = parkinsons.loc[:,1:columns-1]\n",
        "\n",
        "# 4- Gerar as bases de treinamento e teste\n",
        "X_train, X_test, y_train, y_test = train_test_split(X, y, test_size=0.2, stratify=y)\n",
        "# 5- Importar o modelo MLP do sklearn\n",
        "from sklearn.neural_network import MLPClassifier\n",
        "# 6- Instanciar o modelo escolhendo uma topologia para a rede, função de ativação e número de épocas de execução até que obtenha uma taxa de acerto estável\n",
        "model = MLPClassifier(hidden_layer_sizes=(100, 100, 100), max_iter=500, activation='relu')\n",
        "# 7- Treinar o modelo com os dados de treinamento\n",
        "model.fit(X_train, y_train)\n",
        "# 8- Fazer o predict com os dados de teste\n",
        "y_pred = model.predict(X_test)\n",
        "# 9- Imprimir o percentual de acerto da base de teste\n",
        "print(metrics.accuracy_score(y_test, y_pred))"
      ],
      "metadata": {
        "id": "hyCc4Y7XILd0",
        "outputId": "a313fbe5-ee1d-4229-8b83-bed4c1b59ded",
        "colab": {
          "base_uri": "https://localhost:8080/"
        }
      },
      "execution_count": null,
      "outputs": [
        {
          "output_type": "stream",
          "name": "stdout",
          "text": [
            "0.9487179487179487\n"
          ]
        }
      ]
    },
    {
      "cell_type": "code",
      "source": [
        "## Exercício 3 - Dataset Penguins\n",
        "# 1- Carregar a base de dados Penguins da API do Seaborn\n",
        "from seaborn import load_dataset\n",
        "import pandas as pd\n",
        "from sklearn.preprocessing import MinMaxScaler\n",
        "import numpy as np\n",
        "from sklearn.preprocessing import OneHotEncoder\n",
        "from sklearn.compose import make_column_transformer\n",
        "from sklearn.model_selection import train_test_split\n",
        "\n",
        "dataset = load_dataset('penguins')\n",
        "\n",
        "dataset = dataset.dropna()\n",
        "\n",
        "columns = len(dataset.columns)\n",
        "y = dataset['species']\n",
        "X = dataset.drop(['species'], axis=1)\n",
        "\n",
        "# 2- A base precisará ser tratada: Existem valores nulos e dados categóricos\n",
        "df = dataset.dropna()\n",
        "column_transformer = make_column_transformer((OneHotEncoder(), ['species','island','sex']), remainder='passthrough')\n",
        "\n",
        "df = column_transformer.fit_transform(df)\n",
        "\n",
        "df = pd.DataFrame(data=df)\n",
        "\n",
        "####### 3- Normalizar todas as colunas (normalizar é deixar todos os valores das colunas entre 0 e 1) --> Redes Neurais são sensíveis as diferenças escalares de valores das features\n",
        "min_max_scaler = MinMaxScaler()\n",
        "names = df.columns\n",
        "d = min_max_scaler.fit_transform(df)\n",
        "df = pd.DataFrame(d, columns=names)\n",
        "df.head(10)\n",
        "# # 4- Separar o dataset em X (matriz de features) e y (coluna target)\n",
        "y = df[0]\n",
        "X = df.loc[:,1:columns-1]\n",
        "# 5- Gerar as bases de treinamento e teste\n",
        "X_train, X_test, y_train, y_test = train_test_split(X, y, test_size=0.2, stratify=y)\n",
        "# # 6- Importar o modelo MLP do sklearn\n",
        "from sklearn.neural_network import MLPClassifier\n",
        "from sklearn import metrics\n",
        "# # 7- Instanciar o modelo escolhendo uma topologia para a rede, função de ativação e número de épocas de execução até que obtenha uma taxa de acerto estável\n",
        "model = MLPClassifier(hidden_layer_sizes=(100, 100, 100), max_iter=500, activation='relu')\n",
        "# 8- Treinar o modelo com os dados de treinamento\n",
        "model.fit(X_train, y_train)\n",
        "# 9- Fazer o predict com os dados de teste\n",
        "y_pred = model.predict(X_test)\n",
        "# 10- Imprimir o percentual de acerto da base de teste\n",
        "print(metrics.accuracy_score(y_test, y_pred))"
      ],
      "metadata": {
        "id": "L0v15WSn9gS8",
        "colab": {
          "base_uri": "https://localhost:8080/"
        },
        "outputId": "560c35a8-42ea-4d29-97af-a125ea58558d"
      },
      "execution_count": null,
      "outputs": [
        {
          "output_type": "stream",
          "name": "stdout",
          "text": [
            "1.0\n"
          ]
        }
      ]
    },
    {
      "cell_type": "code",
      "source": [
        "## Exercício 4 - Dataset Phoneme\n",
        "\n",
        "# 1- Carregar a base \"phoneme\"\n",
        "url = \"https://raw.githubusercontent.com/tmoura/machinelearning/master/phoneme.data\"\n",
        "\n",
        "# 2- A coluna 0 é o target\n",
        "phoneme = pd.read_csv(url, header=None)\n",
        "# 3- Todas as colunas são numéricas e não possui valores nulos\n",
        "columns = len(phoneme.columns)\n",
        "y = phoneme[0]\n",
        "X = phoneme.loc[:,1:columns-1]\n",
        "# 4- Separar o dataset em X (matriz de features) e y (coluna target)\n",
        "X = phoneme.loc[:,1:columns-1]\n",
        "y = phoneme[0]\n",
        "# 5- Gerar as bases de treinamento e teste\n",
        "X_train, X_test, y_train, y_test = train_test_split(X, y, test_size=0.2, stratify=y)\n",
        "# 6- Importar o modelo MLP do sklearn\n",
        "from sklearn.neural_network import MLPClassifier\n",
        "# 7- Instanciar o modelo escolhendo uma topologia para a rede, função de ativação e número de épocas de execução até que obtenha uma taxa de acerto estável\n",
        "model = MLPClassifier(hidden_layer_sizes=(100, 100, 100), max_iter=500, activation='relu')\n",
        "# 8- Treinar o modelo com os dados de treinamento\n",
        "model.fit(X_train, y_train)\n",
        "# 9- Fazer o predict com os dados de teste\n",
        "y_pred = model.predict(X_test)\n",
        "# 10- Imprimir o percentual de acerto da base de teste\n",
        "print(metrics.accuracy_score(y_test, y_pred))"
      ],
      "metadata": {
        "id": "-w3Yk186ViXm",
        "colab": {
          "base_uri": "https://localhost:8080/"
        },
        "outputId": "c4127060-4a08-4c98-e2d8-a33ca1f3ecf4"
      },
      "execution_count": null,
      "outputs": [
        {
          "output_type": "stream",
          "name": "stdout",
          "text": [
            "0.8843663274745606\n"
          ]
        }
      ]
    }
  ]
}